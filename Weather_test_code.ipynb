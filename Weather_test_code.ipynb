{
  "nbformat": 4,
  "nbformat_minor": 0,
  "metadata": {
    "colab": {
      "provenance": []
    },
    "kernelspec": {
      "name": "python3",
      "display_name": "Python 3"
    },
    "language_info": {
      "name": "python"
    }
  },
  "cells": [
    {
      "cell_type": "code",
      "source": [
        "import requests\n",
        "\n",
        "def space_string(text):\n",
        "  result = [text[0]]\n",
        "  for x in text[1:]:\n",
        "    if x.isupper():\n",
        "      result.append(' ')\n",
        "    result.append(x)\n",
        "  return ''.join(result)\n",
        "\n",
        "location_key = '348735' # hard coded for Boston, eventually want to make this a user input\n",
        "api_key = 'api key goes here'\n",
        "url = f'http://dataservice.accuweather.com/forecasts/v1/daily/1day/{location_key}?apikey={api_key}&details=true'  # NNT- when doing multiple query params, use the & symbol!\n",
        "r = requests.get(url)\n",
        "dict = r.json()\n",
        "weather_condition = str(dict[\"DailyForecasts\"][0][\"Day\"][\"IconPhrase\"]).lower()  # partly cloudy, sunny, etc.\n",
        "high_temp = str(dict[\"DailyForecasts\"][0][\"Temperature\"][\"Maximum\"][\"Value\"])\n",
        "low_temp = str(dict[\"DailyForecasts\"][0][\"Temperature\"][\"Minimum\"][\"Value\"])\n",
        "moon_phase_raw = str(dict[\"DailyForecasts\"][0][\"Moon\"][\"Phase\"])  # gives me an unpretty string with combined words\n",
        "moon_phase_adjusted = space_string(moon_phase_raw).lower()  # Prettier!\n",
        "print(f'Good Morning! Today the weather is expected to be {weather_condition}. The high is expected to be {high_temp} degrees Fahrenheit. The low is expected to be {low_temp} degrees Fahrenheit. The moon phase today is a {moon_phase_adjusted}. Have a great day!')\n"
      ],
      "metadata": {
        "colab": {
          "base_uri": "https://localhost:8080/"
        },
        "id": "ORUYDbfj4xxq",
        "outputId": "2d9e1509-6aae-4ea9-a6ec-78d2925c49ac"
      },
      "execution_count": null,
      "outputs": [
        {
          "output_type": "stream",
          "name": "stdout",
          "text": [
            "Good Morning! Today the weather is expected to be mostly sunny. The high is expected to be 69.0 degrees Fahrenheit. The low is expected to be 60.0 degrees Fahrenheit. The moon phase today is a waning crescent. Have a great day!\n"
          ]
        }
      ]
    },
    {
      "cell_type": "code",
      "source": [
        "import requests\n",
        "\n",
        "def want_weather():\n",
        "  print(\"Good Morning! Would you like this morning's forecast? Enter yes or no.\")\n",
        "  answer = input()\n",
        "  answer = answer.upper()  # being careful\n",
        "  if answer == 'YES':\n",
        "    return (get_loc_key())\n",
        "  else:\n",
        "    return print('Have a great day!')\n",
        "\n",
        "def space_string(text):  # more on this later, basically making some api values readable and pretty\n",
        "  result = [text[0]]\n",
        "  for x in text[1:]:\n",
        "    if x.isupper():\n",
        "      result.append(' ')\n",
        "    result.append(x)\n",
        "  return ''.join(result)\n",
        "\n",
        "\n",
        "def get_loc_key():\n",
        "\n",
        "  print('Where are you interested in the forecast?')\n",
        "  place = input()\n",
        "  api_key = 'apikey goes here'  # initializing my super secret key\n",
        "  req_url = f'http://dataservice.accuweather.com/locations/v1/cities/autocomplete/?apikey={api_key}&q={place}'  # where do you want weather from?\n",
        "  r = requests.get(req_url)\n",
        "\n",
        "  loc_list = r.json()\n",
        "  if len(loc_list) == 0:\n",
        "    print('Sorry, no matching locations found. Try removing special characters or only leaving out the state or province.')\n",
        "    return get_loc_key()\n",
        "\n",
        "  print('Here are the matching locations found.')\n",
        "  city_key_dict = {}   # initializing smaller dictionary to pull from\n",
        "  for i in range(len(loc_list)):\n",
        "    city_key_dict[f'{str(i + 1)}. {str(loc_list[i][\"LocalizedName\"])}, {str(loc_list[i][\"AdministrativeArea\"][\"LocalizedName\"])}, {str(loc_list[i][\"Country\"][\"LocalizedName\"])}'] = str(loc_list[i][\"Key\"]) #setting up smaller dictionary to pull from\n",
        "  separator = '\\n'\n",
        "  user_list = separator.join(city_key_dict)  # making it readable for the user\n",
        "  backend_list = list(city_key_dict.values())  # adding location keys to list\n",
        "  print(user_list)  # shows the user the matching locations\n",
        "\n",
        "  print('Which city are you looking for? Input the number that matches your location.')\n",
        "  answer = input()  # hopefully they pick a number on the list\n",
        "  answer = int(answer)  # making sure it's not taken as a float\n",
        "  if answer > len(backend_list):  # my hope here is this stops integer and string inputs and marks them not valid\n",
        "    return print(f'Please enter a valid number, no greater than {len(backend_list)}.'), get_loc_key()\n",
        "  elif answer < 1:\n",
        "    return print(f'Please enter a valid number, no less than 1.'), get_loc_key()\n",
        "  else:\n",
        "    return get_weather(backend_list[answer-1])\n",
        "\n",
        "def get_weather(location_key):\n",
        "  api_key = 'apikey goes here'\n",
        "  url = f'http://dataservice.accuweather.com/forecasts/v1/daily/1day/{location_key}?apikey={api_key}&details=true' #when doing multiple query params, use the & symbol!\n",
        "  r = requests.get(url)\n",
        "  fcast_dict = r.json()\n",
        "  weather_condition = str(fcast_dict[\"DailyForecasts\"][0][\"Day\"][\"IconPhrase\"]).lower()  # partly cloudy, sunny, etc.\n",
        "  precipitation_chance = str(fcast_dict[\"DailyForecasts\"][0][\"Day\"][\"PrecipitationProbability\"])\n",
        "  high_temp = str(fcast_dict[\"DailyForecasts\"][0][\"Temperature\"][\"Maximum\"][\"Value\"])\n",
        "  low_temp = str(fcast_dict[\"DailyForecasts\"][0][\"Temperature\"][\"Minimum\"][\"Value\"])\n",
        "  moon_phase_raw = str(fcast_dict[\"DailyForecasts\"][0][\"Moon\"][\"Phase\"])  # gives me an unpretty string with combined words\n",
        "  moon_phase_adjusted = space_string(moon_phase_raw).lower()  # Prettier!\n",
        "  #Forecast summery below\n",
        "  return print(f'Hi there! Today the weather is expected to be {weather_condition}. There is a {precipitation_chance}% chance of rain. \\nThe high is expected to be {high_temp} degrees Fahrenheit. The low is expected to be {low_temp} degrees Fahrenheit.\\nThe moon is in the {moon_phase_adjusted} phase today. Have a great day!')\n"
      ],
      "metadata": {
        "id": "DmR_UaeYINa3"
      },
      "execution_count": null,
      "outputs": []
    },
    {
      "cell_type": "code",
      "source": [
        "want_weather()"
      ],
      "metadata": {
        "colab": {
          "base_uri": "https://localhost:8080/"
        },
        "id": "-BuEUOvQHS3P",
        "outputId": "d63314ae-d66a-4169-c3b2-ffec54703fcb"
      },
      "execution_count": null,
      "outputs": [
        {
          "output_type": "stream",
          "name": "stdout",
          "text": [
            "Good Morning! Would you like this morning's forecast? Enter yes or no.\n",
            "yes\n",
            "Where are you interested in the forecast?\n",
            "boston\n",
            "Here are the matching locations found.\n",
            "1. Boston, Massachusetts, United States\n",
            "2. Boston, Lincolnshire, United Kingdom\n",
            "3. Boston, Davao Oriental, Philippines\n",
            "4. Bostonia, California, United States\n",
            "5. Boston, Guanacaste, Costa Rica\n",
            "6. Boston, Camagüey, Cuba\n",
            "7. Boston, Portland, Jamaica\n",
            "8. Boston, Kwazulu-Natal, South Africa\n",
            "9. Boston, Indiana, United States\n",
            "10. Boston, Kentucky, United States\n",
            "Which city are you looking for? Input the number that matches your location.\n",
            "1\n",
            "Hi there! Today the weather is expected to be sunny. There is a 3% chance of rain. \n",
            "The high is expected to be 70.0 degrees Fahrenheit. The low is expected to be 55.0 degrees Fahrenheit.\n",
            "The moon is in the waxing crescent phase today. Have a great day!\n"
          ]
        }
      ]
    }
  ]
}